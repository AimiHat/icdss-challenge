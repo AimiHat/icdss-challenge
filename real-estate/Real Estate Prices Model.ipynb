{
 "cells": [
  {
   "cell_type": "markdown",
   "metadata": {},
   "source": [
    "## Goal of the Challenge\n",
    "---\n",
    "\n",
    "We will be using a neural network model.\n",
    "**Briefly summarise the goal of the challenge of your choice and provide an abstract of your analysis.**\n"
   ]
  },
  {
   "cell_type": "code",
   "execution_count": 1,
   "metadata": {
    "collapsed": true
   },
   "outputs": [],
   "source": [
    "%matplotlib inline\n",
    "\n",
    "from reader import get_housing_data\n",
    "import pandas as pd\n",
    "import seaborn as sns\n",
    "import tensorflow as tf\n",
    "import numpy as np\n",
    "import matplotlib.pyplot as plt\n",
    "from sklearn import preprocessing\n",
    "import random"
   ]
  },
  {
   "cell_type": "code",
   "execution_count": 2,
   "metadata": {},
   "outputs": [
    {
     "data": {
      "text/html": [
       "<div>\n",
       "<style>\n",
       "    .dataframe thead tr:only-child th {\n",
       "        text-align: right;\n",
       "    }\n",
       "\n",
       "    .dataframe thead th {\n",
       "        text-align: left;\n",
       "    }\n",
       "\n",
       "    .dataframe tbody tr th {\n",
       "        vertical-align: top;\n",
       "    }\n",
       "</style>\n",
       "<table border=\"1\" class=\"dataframe\">\n",
       "  <thead>\n",
       "    <tr style=\"text-align: right;\">\n",
       "      <th></th>\n",
       "      <th>Order</th>\n",
       "      <th>PID</th>\n",
       "      <th>MSSubClass</th>\n",
       "      <th>MSZoning</th>\n",
       "      <th>LotFrontage</th>\n",
       "      <th>LotArea</th>\n",
       "      <th>Street</th>\n",
       "      <th>Alley</th>\n",
       "      <th>LotShape</th>\n",
       "      <th>LandContour</th>\n",
       "      <th>...</th>\n",
       "      <th>PoolArea</th>\n",
       "      <th>PoolQC</th>\n",
       "      <th>Fence</th>\n",
       "      <th>MiscFeature</th>\n",
       "      <th>MiscVal</th>\n",
       "      <th>MoSold</th>\n",
       "      <th>YrSold</th>\n",
       "      <th>SaleType</th>\n",
       "      <th>SaleCondition</th>\n",
       "      <th>SalePrice</th>\n",
       "    </tr>\n",
       "  </thead>\n",
       "  <tbody>\n",
       "    <tr>\n",
       "      <th>0</th>\n",
       "      <td>1</td>\n",
       "      <td>526301100</td>\n",
       "      <td>20</td>\n",
       "      <td>RL</td>\n",
       "      <td>141.0</td>\n",
       "      <td>31770</td>\n",
       "      <td>Pave</td>\n",
       "      <td>NaN</td>\n",
       "      <td>IR1</td>\n",
       "      <td>Lvl</td>\n",
       "      <td>...</td>\n",
       "      <td>0</td>\n",
       "      <td>NaN</td>\n",
       "      <td>NaN</td>\n",
       "      <td>NaN</td>\n",
       "      <td>0</td>\n",
       "      <td>5</td>\n",
       "      <td>2010</td>\n",
       "      <td>WD</td>\n",
       "      <td>Normal</td>\n",
       "      <td>215000</td>\n",
       "    </tr>\n",
       "    <tr>\n",
       "      <th>1</th>\n",
       "      <td>2</td>\n",
       "      <td>526350040</td>\n",
       "      <td>20</td>\n",
       "      <td>RH</td>\n",
       "      <td>80.0</td>\n",
       "      <td>11622</td>\n",
       "      <td>Pave</td>\n",
       "      <td>NaN</td>\n",
       "      <td>Reg</td>\n",
       "      <td>Lvl</td>\n",
       "      <td>...</td>\n",
       "      <td>0</td>\n",
       "      <td>NaN</td>\n",
       "      <td>MnPrv</td>\n",
       "      <td>NaN</td>\n",
       "      <td>0</td>\n",
       "      <td>6</td>\n",
       "      <td>2010</td>\n",
       "      <td>WD</td>\n",
       "      <td>Normal</td>\n",
       "      <td>105000</td>\n",
       "    </tr>\n",
       "    <tr>\n",
       "      <th>2</th>\n",
       "      <td>3</td>\n",
       "      <td>526351010</td>\n",
       "      <td>20</td>\n",
       "      <td>RL</td>\n",
       "      <td>81.0</td>\n",
       "      <td>14267</td>\n",
       "      <td>Pave</td>\n",
       "      <td>NaN</td>\n",
       "      <td>IR1</td>\n",
       "      <td>Lvl</td>\n",
       "      <td>...</td>\n",
       "      <td>0</td>\n",
       "      <td>NaN</td>\n",
       "      <td>NaN</td>\n",
       "      <td>Gar2</td>\n",
       "      <td>12500</td>\n",
       "      <td>6</td>\n",
       "      <td>2010</td>\n",
       "      <td>WD</td>\n",
       "      <td>Normal</td>\n",
       "      <td>172000</td>\n",
       "    </tr>\n",
       "    <tr>\n",
       "      <th>3</th>\n",
       "      <td>4</td>\n",
       "      <td>526353030</td>\n",
       "      <td>20</td>\n",
       "      <td>RL</td>\n",
       "      <td>93.0</td>\n",
       "      <td>11160</td>\n",
       "      <td>Pave</td>\n",
       "      <td>NaN</td>\n",
       "      <td>Reg</td>\n",
       "      <td>Lvl</td>\n",
       "      <td>...</td>\n",
       "      <td>0</td>\n",
       "      <td>NaN</td>\n",
       "      <td>NaN</td>\n",
       "      <td>NaN</td>\n",
       "      <td>0</td>\n",
       "      <td>4</td>\n",
       "      <td>2010</td>\n",
       "      <td>WD</td>\n",
       "      <td>Normal</td>\n",
       "      <td>244000</td>\n",
       "    </tr>\n",
       "    <tr>\n",
       "      <th>4</th>\n",
       "      <td>5</td>\n",
       "      <td>527105010</td>\n",
       "      <td>60</td>\n",
       "      <td>RL</td>\n",
       "      <td>74.0</td>\n",
       "      <td>13830</td>\n",
       "      <td>Pave</td>\n",
       "      <td>NaN</td>\n",
       "      <td>IR1</td>\n",
       "      <td>Lvl</td>\n",
       "      <td>...</td>\n",
       "      <td>0</td>\n",
       "      <td>NaN</td>\n",
       "      <td>MnPrv</td>\n",
       "      <td>NaN</td>\n",
       "      <td>0</td>\n",
       "      <td>3</td>\n",
       "      <td>2010</td>\n",
       "      <td>WD</td>\n",
       "      <td>Normal</td>\n",
       "      <td>189900</td>\n",
       "    </tr>\n",
       "  </tbody>\n",
       "</table>\n",
       "<p>5 rows × 82 columns</p>\n",
       "</div>"
      ],
      "text/plain": [
       "   Order        PID  MSSubClass MSZoning  LotFrontage  LotArea Street Alley  \\\n",
       "0      1  526301100          20       RL        141.0    31770   Pave   NaN   \n",
       "1      2  526350040          20       RH         80.0    11622   Pave   NaN   \n",
       "2      3  526351010          20       RL         81.0    14267   Pave   NaN   \n",
       "3      4  526353030          20       RL         93.0    11160   Pave   NaN   \n",
       "4      5  527105010          60       RL         74.0    13830   Pave   NaN   \n",
       "\n",
       "  LotShape LandContour    ...     PoolArea PoolQC  Fence MiscFeature MiscVal  \\\n",
       "0      IR1         Lvl    ...            0    NaN    NaN         NaN       0   \n",
       "1      Reg         Lvl    ...            0    NaN  MnPrv         NaN       0   \n",
       "2      IR1         Lvl    ...            0    NaN    NaN        Gar2   12500   \n",
       "3      Reg         Lvl    ...            0    NaN    NaN         NaN       0   \n",
       "4      IR1         Lvl    ...            0    NaN  MnPrv         NaN       0   \n",
       "\n",
       "  MoSold YrSold SaleType  SaleCondition  SalePrice  \n",
       "0      5   2010      WD          Normal     215000  \n",
       "1      6   2010      WD          Normal     105000  \n",
       "2      6   2010      WD          Normal     172000  \n",
       "3      4   2010      WD          Normal     244000  \n",
       "4      3   2010      WD          Normal     189900  \n",
       "\n",
       "[5 rows x 82 columns]"
      ]
     },
     "execution_count": 2,
     "metadata": {},
     "output_type": "execute_result"
    }
   ],
   "source": [
    "#Getting the data\n",
    "data = get_housing_data()\n",
    "data.head()"
   ]
  },
  {
   "cell_type": "code",
   "execution_count": 3,
   "metadata": {},
   "outputs": [
    {
     "data": {
      "text/plain": [
       "Index(['Order', 'PID', 'MSSubClass', 'MSZoning', 'LotFrontage', 'LotArea',\n",
       "       'Street', 'Alley', 'LotShape', 'LandContour', 'Utilities', 'LotConfig',\n",
       "       'LandSlope', 'Neighborhood', 'Condition1', 'Condition2', 'BldgType',\n",
       "       'HouseStyle', 'OverallQual', 'OverallCond', 'YearBuilt',\n",
       "       'YearRemod/Add', 'RoofStyle', 'RoofMatl', 'Exterior1st', 'Exterior2nd',\n",
       "       'MasVnrType', 'MasVnrArea', 'ExterQual', 'ExterCond', 'Foundation',\n",
       "       'BsmtQual', 'BsmtCond', 'BsmtExposure', 'BsmtFinType1', 'BsmtFinSF1',\n",
       "       'BsmtFinType2', 'BsmtFinSF2', 'BsmtUnfSF', 'TotalBsmtSF', 'Heating',\n",
       "       'HeatingQC', 'CentralAir', 'Electrical', '1stFlrSF', '2ndFlrSF',\n",
       "       'LowQualFinSF', 'GrLivArea', 'BsmtFullBath', 'BsmtHalfBath', 'FullBath',\n",
       "       'HalfBath', 'BedroomAbvGr', 'KitchenAbvGr', 'KitchenQual',\n",
       "       'TotRmsAbvGrd', 'Functional', 'Fireplaces', 'FireplaceQu', 'GarageType',\n",
       "       'GarageYrBlt', 'GarageFinish', 'GarageCars', 'GarageArea', 'GarageQual',\n",
       "       'GarageCond', 'PavedDrive', 'WoodDeckSF', 'OpenPorchSF',\n",
       "       'EnclosedPorch', '3SsnPorch', 'ScreenPorch', 'PoolArea', 'PoolQC',\n",
       "       'Fence', 'MiscFeature', 'MiscVal', 'MoSold', 'YrSold', 'SaleType',\n",
       "       'SaleCondition', 'SalePrice'],\n",
       "      dtype='object')"
      ]
     },
     "execution_count": 3,
     "metadata": {},
     "output_type": "execute_result"
    }
   ],
   "source": [
    "#First drop the columns that are obviously not correlated\n",
    "data.columns"
   ]
  },
  {
   "cell_type": "code",
   "execution_count": 4,
   "metadata": {
    "collapsed": true
   },
   "outputs": [],
   "source": [
    "data = data.drop(['PID','Order'], axis=1)"
   ]
  },
  {
   "cell_type": "markdown",
   "metadata": {},
   "source": [
    "There are continuous, but also categorical features, so I'll use dummy variables for the nominal variables.\n",
    "<br>I'll also encode ordinal features that have NA such as bsmtcond in one-hot, since NA has to be a separate category."
   ]
  },
  {
   "cell_type": "code",
   "execution_count": 5,
   "metadata": {
    "collapsed": true
   },
   "outputs": [],
   "source": [
    "nominal_columns=['MSSubClass', 'MSZoning','Street','Alley', 'LandContour', 'LotConfig',\n",
    "    'Neighborhood', 'Condition1', 'Condition2', 'BldgType',\n",
    "       'HouseStyle','RoofStyle', 'RoofMatl', 'Exterior1st', 'Exterior2nd',\n",
    "       'MasVnrType', 'Foundation','Heating','CentralAir','GarageType','SaleType',\n",
    "       'SaleCondition','BsmtQual','BsmtCond','BsmtExposure','BsmtFinType1','BsmtFinType2',\n",
    "                'Electrical','FireplaceQu','GarageFinish','GarageQual','GarageCond',\n",
    "                'PoolQC','Fence','MiscFeature']"
   ]
  },
  {
   "cell_type": "code",
   "execution_count": 6,
   "metadata": {
    "collapsed": true
   },
   "outputs": [],
   "source": [
    "data = pd.get_dummies(data, prefix=nominal_columns, columns=nominal_columns)"
   ]
  },
  {
   "cell_type": "markdown",
   "metadata": {},
   "source": [
    "We then encode the ordinal features (one by one). <br>This is needed before checking for any correlations to sale price if we don't want to be making any assumptions."
   ]
  },
  {
   "cell_type": "code",
   "execution_count": 7,
   "metadata": {
    "collapsed": true
   },
   "outputs": [],
   "source": [
    "cleanup_nums = {\"LotShape\":     {\"Reg\": 1, \"IR1\": 2, \"IR2\":3, \"IR3\":4},\n",
    "                \"Utilities\": {\"AllPub\": 3, \"NoSewr\": 2, \"NoSeWa\": 1, \"ELO\": 0},\n",
    "                \"LandSlope\": {\"Gtl\": 1, \"Mod\": 2, \"Sev\": 3},\n",
    "                \"ExterQual\": {'Ex':5,'Gd':4,'TA':3,'Fa':2,'Po':1},\n",
    "                \"ExterCond\": {'Ex':5,'Gd':4,'TA':3,'Fa':2,'Po':1},\n",
    "                \"HeatingQC\": {'Ex':5,'Gd':4,'TA':3,'Fa':2,'Po':1},\n",
    "                \"KitchenQual\": {'Ex':5,'Gd':4,'TA':3,'Fa':2,'Po':1},\n",
    "                \"Functional\" : {'Sal':0,'Sev':1,'Maj2':2,'Maj1':3,'Mod':4,'Min2':5,'Min1':6,'Typ':7},\n",
    "                \"PavedDrive\" : {'Y':3,'P':2,'N':1}}\n",
    "\n",
    "data.replace(cleanup_nums, inplace=True)\n",
    "data = data.astype('float64')"
   ]
  },
  {
   "cell_type": "markdown",
   "metadata": {},
   "source": [
    "For feature selection, we use pearson's correlation metric and choose +-.2 threshold.\n",
    "<br>There are too many features for a scatter matrix visualisation.<br>I try to keep as much information as possible, this can be adjusted later to train faster e.g."
   ]
  },
  {
   "cell_type": "code",
   "execution_count": 8,
   "metadata": {},
   "outputs": [
    {
     "data": {
      "text/plain": [
       "BsmtQual_TA         -0.452487\n",
       "GarageFinish_Unf    -0.421876\n",
       "MasVnrType_None     -0.403962\n",
       "GarageType_Detchd   -0.365074\n",
       "Foundation_CBlock   -0.349642\n",
       "dtype: float64"
      ]
     },
     "execution_count": 8,
     "metadata": {},
     "output_type": "execute_result"
    }
   ],
   "source": [
    "corr = data.corrwith(data.SalePrice).sort_values()\n",
    "threshold = .5\n",
    "corr.head()"
   ]
  },
  {
   "cell_type": "code",
   "execution_count": 9,
   "metadata": {
    "collapsed": true
   },
   "outputs": [],
   "source": [
    "features = corr.index[abs(corr)>threshold].tolist()\n",
    "features.remove('SalePrice')"
   ]
  },
  {
   "cell_type": "markdown",
   "metadata": {},
   "source": [
    "We can still visualize a general correlation matrix for the variables most correlated to price"
   ]
  },
  {
   "cell_type": "code",
   "execution_count": 10,
   "metadata": {},
   "outputs": [
    {
     "data": {
      "text/plain": [
       "<matplotlib.axes._subplots.AxesSubplot at 0x1200e7b00>"
      ]
     },
     "execution_count": 10,
     "metadata": {},
     "output_type": "execute_result"
    },
    {
     "data": {
      "image/png": "[encoded data removed]",
      "text/plain": [
       "<matplotlib.figure.Figure at 0x1200d9438>"
      ]
     },
     "metadata": {},
     "output_type": "display_data"
    }
   ],
   "source": [
    "corr = data[corr.index[abs(corr)>0.5].tolist()].corr()\n",
    "sns.heatmap(corr, \n",
    "            xticklabels=corr.columns.values,\n",
    "            yticklabels=corr.columns.values)"
   ]
  },
  {
   "cell_type": "markdown",
   "metadata": {},
   "source": [
    "The dataset has nan values which cannot be used in the nn. We try to impute average value, since about 700/2900 rows have nan."
   ]
  },
  {
   "cell_type": "code",
   "execution_count": 11,
   "metadata": {},
   "outputs": [
    {
     "name": "stderr",
     "output_type": "stream",
     "text": [
      "/Users/aimihat/anaconda/lib/python3.6/site-packages/ipykernel_launcher.py:14: FutureWarning: reshape is deprecated and will raise in a subsequent release. Please use .values.reshape(...) instead\n",
      "  \n",
      "/Users/aimihat/anaconda/lib/python3.6/site-packages/ipykernel_launcher.py:16: FutureWarning: reshape is deprecated and will raise in a subsequent release. Please use .values.reshape(...) instead\n",
      "  app.launch_new_instance()\n"
     ]
    }
   ],
   "source": [
    "data = data.fillna(data.mean()).sort_index()\n",
    "\n",
    "#normalise data\n",
    "x = data[features].values #returns a numpy array\n",
    "scaler = preprocessing.RobustScaler()\n",
    "x_scaled = scaler.fit_transform(x)\n",
    "data[features] = pd.DataFrame(x_scaled, columns=features)\n",
    "\n",
    "#Split the data in train-dev-test\n",
    "train, dev, test = np.split(data.sample(frac=1), [int(.6*len(data)), int(.8*len(data))])\n",
    "train_X = train[features]\n",
    "train_Y = train['SalePrice']\n",
    "dev_X = dev[features]\n",
    "dev_Y = dev['SalePrice'].reshape(dev.shape[0],1)\n",
    "test_X = test[features]\n",
    "test_Y = test['SalePrice'].reshape(test.shape[0],1)"
   ]
  },
  {
   "cell_type": "markdown",
   "metadata": {},
   "source": [
    "After experimention, settling on the following hyperparameters:"
   ]
  },
  {
   "cell_type": "code",
   "execution_count": 12,
   "metadata": {
    "collapsed": true
   },
   "outputs": [],
   "source": [
    "run_name = 'final2.5'\n",
    "#Network parameters\n",
    "n_hidden_1 = 40\n",
    "n_hidden_2 = 20\n",
    "n_hidden_3 = 10\n",
    "num_input = len(features)"
   ]
  },
  {
   "cell_type": "code",
   "execution_count": 13,
   "metadata": {
    "collapsed": true
   },
   "outputs": [],
   "source": [
    "#Setting the hyperparameters\n",
    "learning_rate = 0.001\n",
    "n_epochs = 12000\n",
    "display_step = 1000\n",
    "batch_size = train_X.shape[0]\n",
    "remain_prob = 0.999"
   ]
  },
  {
   "cell_type": "code",
   "execution_count": 14,
   "metadata": {
    "collapsed": true
   },
   "outputs": [],
   "source": [
    "#Tf Graph input\n",
    "with tf.name_scope('input'):\n",
    "    X = tf.placeholder(\"float\", [None,num_input], name='X_input')\n",
    "    Y = tf.placeholder(\"float\", [None,1], name='Y_input')\n",
    "\n",
    "with tf.name_scope('weights'):\n",
    "    weights = {\n",
    "        'W1': tf.get_variable('W1', [num_input, n_hidden_1],initializer=tf.contrib.layers.xavier_initializer()),\n",
    "        'W2': tf.get_variable('W2',[n_hidden_1, n_hidden_2],initializer=tf.contrib.layers.xavier_initializer()),\n",
    "        'W3': tf.get_variable('W3',[n_hidden_2, n_hidden_3],initializer=tf.contrib.layers.xavier_initializer()),\n",
    "        'W_out': tf.get_variable('W_out',[n_hidden_3, 1])\n",
    "    }\n",
    "with tf.name_scope('biases'):\n",
    "    biases = {\n",
    "        'b1': tf.get_variable('b1',[n_hidden_1]),\n",
    "        'b2': tf.get_variable('b2',[n_hidden_2]),\n",
    "        'b3': tf.get_variable('b3',[n_hidden_3]),\n",
    "        'b_out': tf.get_variable('b_out',[1])\n",
    "    }"
   ]
  },
  {
   "cell_type": "code",
   "execution_count": null,
   "metadata": {
    "collapsed": true
   },
   "outputs": [],
   "source": [
    "### Create model\n",
    "def neural_net(x):\n",
    "    layer_1 = tf.nn.dropout(tf.nn.relu(tf.add(tf.matmul(x, weights['W1']), biases['b1'])),remain_prob)\n",
    "    layer_2 = tf.nn.dropout(tf.nn.relu(tf.add(tf.matmul(layer_1, weights['W2']), biases['b2'])),remain_prob)\n",
    "    layer_3 = tf.nn.dropout(tf.nn.relu(tf.add(tf.matmul(layer_2, weights['W3']), biases['b3'])),remain_prob)\n",
    "    out_layer = tf.matmul(layer_3, weights['W_out']) + biases['b_out']\n",
    "    return out_layer\n",
    "\n",
    "logits = neural_net(X)\n",
    "with tf.name_scope('prediction'):\n",
    "    prediction = logits"
   ]
  },
  {
   "cell_type": "code",
   "execution_count": null,
   "metadata": {
    "collapsed": true
   },
   "outputs": [],
   "source": [
    "with tf.name_scope('Loss'):\n",
    "    loss_op = tf.reduce_mean(tf.losses.absolute_difference(labels=Y,predictions=logits))\n",
    "    mean_square_error = tf.reduce_mean(tf.squared_difference(logits, Y))\n",
    "with tf.name_scope('train'):\n",
    "    optimizer = tf.train.AdamOptimizer(learning_rate=learning_rate)\n",
    "    train_op = optimizer.minimize(loss_op)\n",
    "\n",
    "init = tf.global_variables_initializer()\n",
    "\n",
    "tf.summary.scalar(\"cost\", loss_op)\n",
    "tf.summary.scalar(\"mean_square\", mean_square_error)\n",
    "\n",
    "summary_op = tf.summary.merge_all()"
   ]
  },
  {
   "cell_type": "markdown",
   "metadata": {},
   "source": [
    "*Figure: Tensor graph used*\n",
    "![Tensor graph used](files/graph.png)"
   ]
  },
  {
   "cell_type": "code",
   "execution_count": null,
   "metadata": {
    "collapsed": true
   },
   "outputs": [],
   "source": [
    "def iterate_minibatches(inputs, targets, batchsize, shuffle=False):\n",
    "    assert inputs.shape[0] == targets.shape[0]\n",
    "    if shuffle:\n",
    "        indices = np.arange(inputs.shape[0])\n",
    "        np.random.shuffle(indices)\n",
    "    for start_idx in range(0, inputs.shape[0] - batchsize + 1, batchsize):\n",
    "        if shuffle:\n",
    "            excerpt = indices[start_idx:start_idx + batchsize]\n",
    "        else:\n",
    "            excerpt = slice(start_idx, start_idx + batchsize)\n",
    "        yield inputs[excerpt], targets[excerpt]\n",
    "        \n",
    "\n",
    "saver = tf.train.Saver()\n",
    "\n",
    "# Start training\n",
    "with tf.Session() as sess:\n",
    "\n",
    "    # Run the initializer\n",
    "    file_writer = tf.summary.FileWriter('/tmp/tensorlogs/'+run_name, sess.graph)\n",
    "    curves_writer = tf.summary.FileWriter('/tmp/tensorlogs/'+run_name+'curves', sess.graph)\n",
    "    sess.run(init)\n",
    "    step = 0\n",
    "    for epoch in range(n_epochs):\n",
    "        assert not np.any(np.isnan(train_X))\n",
    "        for batch in iterate_minibatches(train_X, train_Y, batch_size):\n",
    "            batch_x, batch_y = batch\n",
    "            batch_y = batch_y.values.reshape(batch_size,1)\n",
    "            step += 1\n",
    "            \n",
    "            # Run optimization op (backprop)\n",
    "            _,loss_summary = sess.run([train_op, summary_op], feed_dict={X: batch_x, Y: batch_y})\n",
    "            curves_summary = sess.run(summary_op, feed_dict={X: dev_X, Y: dev_Y})\n",
    "            file_writer.add_summary(loss_summary, epoch * batch_size + step)\n",
    "            curves_writer.add_summary(curves_summary, epoch * batch_size + step)\n",
    "            \n",
    "            if epoch % display_step == 0:\n",
    "                # Calculate batch loss and accuracy\n",
    "                tf.add_to_collection(\"prediction\", prediction)\n",
    "                loss = sess.run(loss_op, feed_dict={X: batch_x,Y: batch_y})\n",
    "                saver.save(sess, \"/tmp/model.ckpt\", global_step=epoch, write_meta_graph=False)\n",
    "                print(\"Epoch \" + str(epoch) + \", Minibatch Loss= \" + \\\n",
    "                      \"{:.4f}\".format(loss))\n"
   ]
  },
  {
   "cell_type": "code",
   "execution_count": null,
   "metadata": {
    "collapsed": true
   },
   "outputs": [],
   "source": [
    "#To make predictions after training, here it does a random row prediction\n",
    "row = random.randrange(train_Y.shape[0])\n",
    "with tf.Session() as sess:\n",
    "  # Restore variables from disk.\n",
    "    #new_saver = tf.train.import_meta_graph('/tmp/model.ckpt-40000.meta')\n",
    "    saver.restore(sess, tf.train.latest_checkpoint('/tmp/'))\n",
    "    print(\"Model restored.\")\n",
    "    # Check the values of the variables\n",
    "    print('actual: ',train_Y.iloc[row])\n",
    "    print('prediction: ',sess.run(prediction, feed_dict={X:train_X.iloc[row].reshape(1,len(features))}))\n",
    "    \n",
    "    print('test error:', sess.run([loss_op,mean_square_error], feed_dict={X:test_X,Y:test_Y}))"
   ]
  },
  {
   "cell_type": "markdown",
   "metadata": {},
   "source": [
    "We can then compare our model to a simple linear regression"
   ]
  }
 ],
 "metadata": {
  "kernelspec": {
   "display_name": "Python 3",
   "language": "python",
   "name": "python3"
  },
  "language_info": {
   "codemirror_mode": {
    "name": "ipython",
    "version": 3
   },
   "file_extension": ".py",
   "mimetype": "text/x-python",
   "name": "python",
   "nbconvert_exporter": "python",
   "pygments_lexer": "ipython3",
   "version": "3.6.1"
  }
 },
 "nbformat": 4,
 "nbformat_minor": 2
}
